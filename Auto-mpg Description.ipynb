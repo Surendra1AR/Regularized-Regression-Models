{
 "cells": [
  {
   "cell_type": "markdown",
   "metadata": {},
   "source": [
    "## Data Description:\n",
    "\n",
    "**Performing Regularized Regression Models on auto-mpg dataset:**\n",
    "\n",
    "    \"The data concerns city-cycle fuel consumption in miles per gallon,\n",
    "     to be predicted in terms of 3 multivalued discrete and 5 continuous\n",
    "     attributes.\"\n",
    "       \n",
    "**Attribute Information:**:\n",
    "\n",
    "       * mpg: continuous\n",
    "       * cylinders: multi-valued discrete\n",
    "       * displacement: continuous\n",
    "       * horsepower: continuous\n",
    "       * weight: continuous\n",
    "       * acceleration: continuous\n",
    "       * model year: multi-valued discrete\n",
    "       * origin: multi-valued discrete\n",
    "       * car name: string (unique for each instance)\n"
   ]
  },
  {
   "cell_type": "code",
   "execution_count": null,
   "metadata": {},
   "outputs": [],
   "source": []
  }
 ],
 "metadata": {
  "kernelspec": {
   "display_name": "Python 3",
   "language": "python",
   "name": "python3"
  },
  "language_info": {
   "codemirror_mode": {
    "name": "ipython",
    "version": 3
   },
   "file_extension": ".py",
   "mimetype": "text/x-python",
   "name": "python",
   "nbconvert_exporter": "python",
   "pygments_lexer": "ipython3",
   "version": "3.8.5"
  }
 },
 "nbformat": 4,
 "nbformat_minor": 4
}
